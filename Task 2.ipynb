{
 "cells": [
  {
   "cell_type": "markdown",
   "id": "97ac4bfb",
   "metadata": {},
   "source": [
    "# Урок 2"
   ]
  },
  {
   "cell_type": "markdown",
   "id": "ace75a42",
   "metadata": {},
   "source": [
    "## Задание 1"
   ]
  },
  {
   "cell_type": "markdown",
   "id": "ee667fcd",
   "metadata": {},
   "source": [
    "Дана переменная, в которой хранится слово из латинских букв. Напишите код, который выводит на экран:\n",
    "- среднюю букву, если число букв в слове нечетное;\n",
    "- две средних буквы, если число букв четное."
   ]
  },
  {
   "cell_type": "code",
   "execution_count": 25,
   "id": "4a63fd70",
   "metadata": {},
   "outputs": [
    {
     "name": "stdout",
     "output_type": "stream",
     "text": [
      "e s\n"
     ]
    }
   ],
   "source": [
    "word = \"test\"\n",
    "x = len(word)\n",
    "y = int(x/2)\n",
    "if x % 2 == 0:\n",
    "    print (word[y-1], word[y])\n",
    "else:\n",
    "    print (word[y+1])"
   ]
  },
  {
   "cell_type": "code",
   "execution_count": 28,
   "id": "7e4dff68",
   "metadata": {
    "scrolled": true
   },
   "outputs": [
    {
     "name": "stdout",
     "output_type": "stream",
     "text": [
      "t\n"
     ]
    }
   ],
   "source": [
    "word = \"testing\"\n",
    "x = len(word)\n",
    "y = int(x/2)\n",
    "if x % 2 == 0:\n",
    "    print (word[y-1], word[y])\n",
    "else:\n",
    "    print (word[y])"
   ]
  },
  {
   "cell_type": "markdown",
   "id": "bc080108",
   "metadata": {},
   "source": [
    "##  Задание 2"
   ]
  },
  {
   "cell_type": "markdown",
   "id": "b7a76fd3",
   "metadata": {},
   "source": [
    "Напишите программу, которая последовательно запрашивает у пользователя числа (по одному за раз) и после первого нуля выводит сумму всех ранее введенных чисел."
   ]
  },
  {
   "cell_type": "code",
   "execution_count": 58,
   "id": "7fae08f5",
   "metadata": {},
   "outputs": [
    {
     "name": "stdout",
     "output_type": "stream",
     "text": [
      "Введите число: 1\n",
      "Введите число: 2\n",
      "Введите число: 3\n",
      "Введите число: 4\n",
      "Введите число: 0\n",
      "10\n"
     ]
    }
   ],
   "source": [
    "numbers = []\n",
    "user_input = int (input('Введите число: '))\n",
    "numbers.append (user_input)\n",
    "while user_input != 0:\n",
    "    user_input = int (input('Введите число: '))\n",
    "    numbers.append (user_input)\n",
    "print (sum(numbers))"
   ]
  },
  {
   "cell_type": "code",
   "execution_count": 59,
   "id": "68737eb0",
   "metadata": {},
   "outputs": [
    {
     "name": "stdout",
     "output_type": "stream",
     "text": [
      "Введите число: 0\n",
      "0\n"
     ]
    }
   ],
   "source": [
    "numbers = []\n",
    "user_input = int (input('Введите число: '))\n",
    "numbers.append (user_input)\n",
    "while user_input != 0:\n",
    "    user_input = int (input('Введите число: '))\n",
    "    numbers.append (user_input)\n",
    "print (sum(numbers))"
   ]
  },
  {
   "cell_type": "markdown",
   "id": "eda17e0c",
   "metadata": {},
   "source": [
    "## Задание 3"
   ]
  },
  {
   "cell_type": "markdown",
   "id": "79729ff9",
   "metadata": {},
   "source": [
    "Мы делаем MVP dating-сервиса, и у нас есть список парней и девушек.\n",
    "Выдвигаем гипотезу: лучшие рекомендации мы получим, если просто отсортируем имена по алфавиту и познакомим людей с одинаковыми индексами после сортировки! Но мы не будем никого знакомить, если кто-то может остаться без пары:"
   ]
  },
  {
   "cell_type": "code",
   "execution_count": 83,
   "id": "d2c8db9b",
   "metadata": {},
   "outputs": [
    {
     "name": "stdout",
     "output_type": "stream",
     "text": [
      "Идеальная пара:\n",
      "Alex и Emma\n",
      "Arthur и Kate\n",
      "John и Kira\n",
      "Peter и Liza\n",
      "Richard и Trisha\n"
     ]
    }
   ],
   "source": [
    "boys = [\"Peter\", \"Alex\", \"John\", \"Arthur\", \"Richard\"]\n",
    "girls = [\"Kate\", \"Liza\", \"Kira\", \"Emma\", \"Trisha\"]\n",
    "\n",
    "# сортируем имена и записываем в новые переменные\n",
    "sorted_boys = sorted (boys)\n",
    "sorted_girls = sorted (girls)\n",
    "\n",
    "if len (sorted_boys) == len (sorted_girls):\n",
    "    index = 0\n",
    "    print (\"Идеальная пара:\")\n",
    "    \n",
    "    while index < len (sorted_boys):\n",
    "        print (sorted_boys[index], \"и\", sorted_girls[index])\n",
    "        index += 1\n",
    "else:\n",
    "    print (\"Внимание, кто-то может остаться без пары!\")"
   ]
  },
  {
   "cell_type": "code",
   "execution_count": 82,
   "id": "7f884de4",
   "metadata": {},
   "outputs": [
    {
     "name": "stdout",
     "output_type": "stream",
     "text": [
      "Внимание, кто-то может остаться без пары!\n"
     ]
    }
   ],
   "source": [
    "boys = [\"Peter\", \"Alex\", \"John\", \"Arthur\", \"Richard\"]\n",
    "girls = [\"Kate\", \"Liza\", \"Kira\", \"Emma\"]\n",
    "\n",
    "# сортируем имена и записываем в новые переменные\n",
    "sorted_boys = sorted (boys)\n",
    "sorted_girls = sorted (girls)\n",
    "\n",
    "if len (sorted_boys) == len (sorted_girls):\n",
    "    index = 0\n",
    "    print (\"Идеальная пара:\")\n",
    "    print (sorted_boys[index], \"и\", sorted_girls[index])\n",
    "    \n",
    "    while index < len (sorted_boys):\n",
    "        print (sorted_boys[index], \"и\", sorted_girls[index])\n",
    "        index += 1\n",
    "else:\n",
    "    print (\"Внимание, кто-то может остаться без пары!\")"
   ]
  },
  {
   "cell_type": "markdown",
   "id": "75f490b1",
   "metadata": {},
   "source": [
    "## Задание 4"
   ]
  },
  {
   "cell_type": "markdown",
   "id": "84a4ea7b",
   "metadata": {},
   "source": [
    "У нас есть список, содержащий информацию о среднедневной температуре в Фаренгейтах за произвольный период по странам (структура данных в примере). Необходимо написать код, который рассчитает среднюю температуру за период в Цельсиях(!) для каждой страны."
   ]
  },
  {
   "cell_type": "code",
   "execution_count": 2,
   "id": "99f714ea",
   "metadata": {},
   "outputs": [
    {
     "name": "stdout",
     "output_type": "stream",
     "text": [
      "Средняя температура в странах:\n",
      "Thailand — 23.9 C\n",
      "Germany — 13.8 C\n",
      "Russia — 3.7 C\n",
      "Poland — 12.0 C\n"
     ]
    }
   ],
   "source": [
    "countries_temperature = [\n",
    "[\"Thailand\", [75.2, 77, 78.8, 73.4, 68, 75.2, 77]],\n",
    "[\"Germany\", [57.2, 55.4, 59, 59, 53.6]],\n",
    "[\"Russia\", [35.6, 37.4, 39.2, 41, 42.8, 39.2, 35.6]],\n",
    "[\"Poland\", [50, 50, 53.6, 57.2, 55.4, 55.4]]\n",
    "]\n",
    "\n",
    "index = 0\n",
    "country = []\n",
    "temperature = []\n",
    "\n",
    "\n",
    "# Записываем в отдельные списки страны и температуру\n",
    "\n",
    "while index < len (countries_temperature):\n",
    "    country.append (countries_temperature [index][0])\n",
    "    temperature.append (countries_temperature [index][1])\n",
    "    index += 1\n",
    "\n",
    "    \n",
    "# Находим среднюю температуру по каждому индексу\n",
    "# av_temperature — средняя температура в Цальсиях для каждой страны\n",
    "\n",
    "index = 0\n",
    "av_temperature = []\n",
    "\n",
    "while index < len (countries_temperature):\n",
    "    av_temperature.append (round((((sum(temperature[index])/len(temperature[index])) - 32) *5/9), 1))\n",
    "    index += 1\n",
    "\n",
    "    \n",
    "# Выводим список стран и средних температур\n",
    "\n",
    "index = 0\n",
    "print (\"Средняя температура в странах:\")\n",
    "\n",
    "while index < len (country):\n",
    "    print (country [index], \"—\", av_temperature[index], \"C\")\n",
    "    index += 1"
   ]
  }
 ],
 "metadata": {
  "kernelspec": {
   "display_name": "Python 3",
   "language": "python",
   "name": "python3"
  },
  "language_info": {
   "codemirror_mode": {
    "name": "ipython",
    "version": 3
   },
   "file_extension": ".py",
   "mimetype": "text/x-python",
   "name": "python",
   "nbconvert_exporter": "python",
   "pygments_lexer": "ipython3",
   "version": "3.8.8"
  }
 },
 "nbformat": 4,
 "nbformat_minor": 5
}
