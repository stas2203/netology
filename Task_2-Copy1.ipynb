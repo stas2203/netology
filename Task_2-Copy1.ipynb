{
 "cells": [
  {
   "cell_type": "markdown",
   "id": "db8cc140",
   "metadata": {},
   "source": [
    "# Урок 2"
   ]
  },
  {
   "cell_type": "markdown",
   "id": "76ce3c23",
   "metadata": {},
   "source": [
    "## Задание 1"
   ]
  },
  {
   "cell_type": "markdown",
   "id": "afac3853",
   "metadata": {},
   "source": [
    "Дана переменная, в которой хранится слово из латинских букв. Напишите код, который выводит на экран:\n",
    "- среднюю букву, если число букв в слове нечетное;\n",
    "- две средних буквы, если число букв четное."
   ]
  },
  {
   "cell_type": "code",
   "execution_count": 25,
   "id": "15f42c48",
   "metadata": {},
   "outputs": [
    {
     "name": "stdout",
     "output_type": "stream",
     "text": [
      "e s\n"
     ]
    }
   ],
   "source": [
    "word = \"test\"\n",
    "x = len(word)\n",
    "y = int(x/2)\n",
    "if x % 2 == 0:\n",
    "    print (word[y-1], word[y])\n",
    "else:\n",
    "    print (word[y+1])"
   ]
  },
  {
   "cell_type": "code",
   "execution_count": 28,
   "id": "65cc2544",
   "metadata": {
    "scrolled": true
   },
   "outputs": [
    {
     "name": "stdout",
     "output_type": "stream",
     "text": [
      "t\n"
     ]
    }
   ],
   "source": [
    "word = \"testing\"\n",
    "x = len(word)\n",
    "y = int(x/2)\n",
    "if x % 2 == 0:\n",
    "    print (word[y-1], word[y])\n",
    "else:\n",
    "    print (word[y])"
   ]
  },
  {
   "cell_type": "markdown",
   "id": "377a1ca4",
   "metadata": {},
   "source": [
    "##  Задание 2"
   ]
  },
  {
   "cell_type": "markdown",
   "id": "6414e18f",
   "metadata": {},
   "source": [
    "Напишите программу, которая последовательно запрашивает у пользователя числа (по одному за раз) и после первого нуля выводит сумму всех ранее введенных чисел."
   ]
  },
  {
   "cell_type": "code",
   "execution_count": 58,
   "id": "8415e045",
   "metadata": {},
   "outputs": [
    {
     "name": "stdout",
     "output_type": "stream",
     "text": [
      "Введите число: 1\n",
      "Введите число: 2\n",
      "Введите число: 3\n",
      "Введите число: 4\n",
      "Введите число: 0\n",
      "10\n"
     ]
    }
   ],
   "source": [
    "numbers = []\n",
    "user_input = int (input('Введите число: '))\n",
    "numbers.append (user_input)\n",
    "while user_input != 0:\n",
    "    user_input = int (input('Введите число: '))\n",
    "    numbers.append (user_input)\n",
    "print (sum(numbers))"
   ]
  },
  {
   "cell_type": "code",
   "execution_count": 59,
   "id": "aa3d78f6",
   "metadata": {},
   "outputs": [
    {
     "name": "stdout",
     "output_type": "stream",
     "text": [
      "Введите число: 0\n",
      "0\n"
     ]
    }
   ],
   "source": [
    "numbers = []\n",
    "user_input = int (input('Введите число: '))\n",
    "numbers.append (user_input)\n",
    "while user_input != 0:\n",
    "    user_input = int (input('Введите число: '))\n",
    "    numbers.append (user_input)\n",
    "print (sum(numbers))"
   ]
  },
  {
   "cell_type": "markdown",
   "id": "77466313",
   "metadata": {},
   "source": [
    "## Задание 3"
   ]
  },
  {
   "cell_type": "markdown",
   "id": "7a0bb512",
   "metadata": {},
   "source": [
    "Мы делаем MVP dating-сервиса, и у нас есть список парней и девушек.\n",
    "Выдвигаем гипотезу: лучшие рекомендации мы получим, если просто отсортируем имена по алфавиту и познакомим людей с одинаковыми индексами после сортировки! Но мы не будем никого знакомить, если кто-то может остаться без пары:"
   ]
  },
  {
   "cell_type": "code",
   "execution_count": 83,
   "id": "69d1770a",
   "metadata": {},
   "outputs": [
    {
     "name": "stdout",
     "output_type": "stream",
     "text": [
      "Идеальная пара:\n",
      "Alex и Emma\n",
      "Arthur и Kate\n",
      "John и Kira\n",
      "Peter и Liza\n",
      "Richard и Trisha\n"
     ]
    }
   ],
   "source": [
    "boys = [\"Peter\", \"Alex\", \"John\", \"Arthur\", \"Richard\"]\n",
    "girls = [\"Kate\", \"Liza\", \"Kira\", \"Emma\", \"Trisha\"]\n",
    "\n",
    "# сортируем имена и записываем в новые переменные\n",
    "sorted_boys = sorted (boys)\n",
    "sorted_girls = sorted (girls)\n",
    "\n",
    "if len (sorted_boys) == len (sorted_girls):\n",
    "    index = 0\n",
    "    print (\"Идеальная пара:\")\n",
    "    \n",
    "    while index < len (sorted_boys):\n",
    "        print (sorted_boys[index], \"и\", sorted_girls[index])\n",
    "        index += 1\n",
    "else:\n",
    "    print (\"Внимание, кто-то может остаться без пары!\")"
   ]
  },
  {
   "cell_type": "code",
   "execution_count": 82,
   "id": "4048b2e9",
   "metadata": {},
   "outputs": [
    {
     "name": "stdout",
     "output_type": "stream",
     "text": [
      "Внимание, кто-то может остаться без пары!\n"
     ]
    }
   ],
   "source": [
    "boys = [\"Peter\", \"Alex\", \"John\", \"Arthur\", \"Richard\"]\n",
    "girls = [\"Kate\", \"Liza\", \"Kira\", \"Emma\"]\n",
    "\n",
    "# сортируем имена и записываем в новые переменные\n",
    "sorted_boys = sorted (boys)\n",
    "sorted_girls = sorted (girls)\n",
    "\n",
    "if len (sorted_boys) == len (sorted_girls):\n",
    "    index = 0\n",
    "    print (\"Идеальная пара:\")\n",
    "    print (sorted_boys[index], \"и\", sorted_girls[index])\n",
    "    \n",
    "    while index < len (sorted_boys):\n",
    "        print (sorted_boys[index], \"и\", sorted_girls[index])\n",
    "        index += 1\n",
    "else:\n",
    "    print (\"Внимание, кто-то может остаться без пары!\")"
   ]
  },
  {
   "cell_type": "markdown",
   "id": "106ca352",
   "metadata": {},
   "source": [
    "## Задание 4"
   ]
  },
  {
   "cell_type": "markdown",
   "id": "e37ef162",
   "metadata": {},
   "source": [
    "У нас есть список, содержащий информацию о среднедневной температуре в Фаренгейтах за произвольный период по странам (структура данных в примере). Необходимо написать код, который рассчитает среднюю температуру за период в Цельсиях(!) для каждой страны."
   ]
  },
  {
   "cell_type": "code",
   "execution_count": 2,
   "id": "3e2583c3",
   "metadata": {},
   "outputs": [
    {
     "name": "stdout",
     "output_type": "stream",
     "text": [
      "Средняя температура в странах:\n",
      "Thailand — 23.9 C\n",
      "Germany — 13.8 C\n",
      "Russia — 3.7 C\n",
      "Poland — 12.0 C\n"
     ]
    }
   ],
   "source": [
    "countries_temperature = [\n",
    "[\"Thailand\", [75.2, 77, 78.8, 73.4, 68, 75.2, 77]],\n",
    "[\"Germany\", [57.2, 55.4, 59, 59, 53.6]],\n",
    "[\"Russia\", [35.6, 37.4, 39.2, 41, 42.8, 39.2, 35.6]],\n",
    "[\"Poland\", [50, 50, 53.6, 57.2, 55.4, 55.4]]\n",
    "]\n",
    "\n",
    "index = 0\n",
    "country = []\n",
    "temperature = []\n",
    "\n",
    "\n",
    "# Записываем в отдельные списки страны и температуру\n",
    "\n",
    "while index < len (countries_temperature):\n",
    "    country.append (countries_temperature [index][0])\n",
    "    temperature.append (countries_temperature [index][1])\n",
    "    index += 1\n",
    "\n",
    "    \n",
    "# Находим среднюю температуру по каждому индексу\n",
    "# av_temperature — средняя температура в Цальсиях для каждой страны\n",
    "\n",
    "index = 0\n",
    "av_temperature = []\n",
    "\n",
    "while index < len (countries_temperature):\n",
    "    av_temperature.append (round((((sum(temperature[index])/len(temperature[index])) - 32) *5/9), 1))\n",
    "    index += 1\n",
    "\n",
    "    \n",
    "# Выводим список стран и средних температур\n",
    "\n",
    "index = 0\n",
    "print (\"Средняя температура в странах:\")\n",
    "\n",
    "while index < len (country):\n",
    "    print (country [index], \"—\", av_temperature[index], \"C\")\n",
    "    index += 1"
   ]
  },
  {
   "cell_type": "markdown",
   "id": "c171859a",
   "metadata": {},
   "source": [
    "##  Задание 5"
   ]
  },
  {
   "cell_type": "markdown",
   "id": "7b4315ff",
   "metadata": {},
   "source": [
    "Дан поток логов по количеству просмотренных страниц для каждого пользователя. Вам необходимо написать алгоритм, который считает среднее значение просмотров на пользователя. Т. е. надо посчитать отношение суммы всех просмотров к количеству уникальных пользователей."
   ]
  },
  {
   "cell_type": "code",
   "execution_count": 7,
   "id": "41617dd5",
   "metadata": {},
   "outputs": [
    {
     "name": "stdout",
     "output_type": "stream",
     "text": [
      "0\n",
      "['0', '0', '0', '0', '0', '0', '0', '0', '0', '0', '0', '0']\n"
     ]
    }
   ],
   "source": [
    "stream = [\n",
    "    \"2018-01-01,user1,3\",\n",
    "    \"2018-01-07,user1,4\",\n",
    "    \"2018-03-29,user1,1\",\n",
    "    \"2018-04-04,user1,13\",\n",
    "    \"2018-01-05,user2,7\",\n",
    "    \"2018-06-14,user3,4\",\n",
    "    \"2018-07-02,user3,10\",\n",
    "    \"2018-03-21,user4,19\",\n",
    "    \"2018-03-22,user4,4\",\n",
    "    \"2018-04-22,user4,8\",\n",
    "    \"2018-05-03,user4,9\",\n",
    "    \"2018-05-11,user4,11\",\n",
    "]\n",
    "\n",
    "print (stream[1][1])\n",
    "\n",
    "index = 0\n",
    "users =[]\n",
    "while index < len (stream):\n",
    "    users.append (stream[index][1])\n",
    "    index += 1\n",
    "    \n",
    "print (users)"
   ]
  }
 ],
 "metadata": {
  "kernelspec": {
   "display_name": "Python 3",
   "language": "python",
   "name": "python3"
  },
  "language_info": {
   "codemirror_mode": {
    "name": "ipython",
    "version": 3
   },
   "file_extension": ".py",
   "mimetype": "text/x-python",
   "name": "python",
   "nbconvert_exporter": "python",
   "pygments_lexer": "ipython3",
   "version": "3.8.8"
  }
 },
 "nbformat": 4,
 "nbformat_minor": 5
}
